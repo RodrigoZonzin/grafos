{
  "nbformat": 4,
  "nbformat_minor": 0,
  "metadata": {
    "colab": {
      "provenance": [],
      "include_colab_link": true
    },
    "kernelspec": {
      "name": "python3",
      "display_name": "Python 3"
    },
    "language_info": {
      "name": "python"
    }
  },
  "cells": [
    {
      "cell_type": "markdown",
      "metadata": {
        "id": "view-in-github",
        "colab_type": "text"
      },
      "source": [
        "<a href=\"https://colab.research.google.com/github/RodrigoZonzin/grafos/blob/main/colonia_formigas/TP_grafos.ipynb\" target=\"_parent\"><img src=\"https://colab.research.google.com/assets/colab-badge.svg\" alt=\"Open In Colab\"/></a>"
      ]
    },
    {
      "cell_type": "code",
      "source": [
        "!pip install igraph"
      ],
      "metadata": {
        "id": "a4Zny6vwZXI6",
        "colab": {
          "base_uri": "https://localhost:8080/"
        },
        "outputId": "41e490d3-e374-446a-d154-ad522860d54f"
      },
      "execution_count": null,
      "outputs": [
        {
          "output_type": "stream",
          "name": "stdout",
          "text": [
            "Requirement already satisfied: igraph in /usr/local/lib/python3.10/dist-packages (0.11.3)\n",
            "Requirement already satisfied: texttable>=1.6.2 in /usr/local/lib/python3.10/dist-packages (from igraph) (1.7.0)\n"
          ]
        }
      ]
    },
    {
      "cell_type": "code",
      "source": [
        "import random, math\n",
        "import numpy as np\n",
        "import matplotlib.pyplot as plt\n",
        "import igraph as ig\n"
      ],
      "metadata": {
        "id": "IIEtuFNkAqql"
      },
      "execution_count": null,
      "outputs": []
    },
    {
      "cell_type": "code",
      "source": [],
      "metadata": {
        "id": "39GnQnq94IXl"
      },
      "execution_count": null,
      "outputs": []
    },
    {
      "cell_type": "code",
      "source": [
        "params = {\n",
        "\t\t\"num_formigas\": 8,\n",
        "\t\t\"alfa\": 1.0,\n",
        "\t\t\"beta\": 5.0,\n",
        "\t\t\"iteracoes\": 1000,\n",
        "\t\t\"evaporacao\": 0.5,\n",
        "}"
      ],
      "metadata": {
        "id": "_eMohrK8A5bP"
      },
      "execution_count": null,
      "outputs": []
    },
    {
      "cell_type": "code",
      "source": [
        "def inicializa_ACO(grafo, num_formigas, alfa=1.0, beta=5.0, iteracoes=10, evaporacao=0.5):\n",
        "    formigas = []\n",
        "    lista_cidades = [cidade for cidade in range(1, grafo.num_vertices + 1)]\n",
        "\n",
        "    for k in range(num_formigas):\n",
        "        cidade_formiga = random.choice(lista_cidades)\n",
        "        lista_cidades.remove(cidade_formiga)\n",
        "        formigas.append(Formiga(cidade = cidade_formiga))\n",
        "        if not lista_cidades:\n",
        "            lista_cidades = [cidade for cidade in range(1, grafo.num_vertices + 1)]\n",
        "\n",
        "    custo_guloso = 0.0\n",
        "    vertice_inicial = random.randint(1, grafo.num_vertices)\n",
        "    vertice_corrente = vertice_inicial\n",
        "    visitados = [vertice_corrente]\n",
        "\n",
        "    while True:\n",
        "        vizinhos = grafo.vizinhos[vertice_corrente][:]\n",
        "        custos, escolhidos = [], {}\n",
        "\n",
        "        for vizinho in vizinhos:\n",
        "            if vizinho not in visitados:\n",
        "                custo = grafo.obterCustoAresta(vertice_corrente, vizinho)\n",
        "                escolhidos[custo] = vizinho\n",
        "                custos.append(custo)\n",
        "\n",
        "        if len(visitados) == grafo.num_vertices:\n",
        "            break\n",
        "\n",
        "        min_custo = min(custos)\n",
        "        custo_guloso += min_custo\n",
        "        vertice_corrente = escolhidos[min_custo]\n",
        "        visitados.append(vertice_corrente)\n",
        "\n",
        "    custo_guloso += grafo.obterCustoAresta(visitados[-1], vertice_inicial)\n",
        "\n",
        "    for chave_aresta in grafo.arestas:\n",
        "        feromonio = 1.0 / (grafo.num_vertices * custo_guloso)\n",
        "        grafo.setFeromonioAresta(chave_aresta[0], chave_aresta[1], feromonio)\n",
        "\n",
        "    return formigas"
      ],
      "metadata": {
        "id": "78dbz4WFIL9_"
      },
      "execution_count": null,
      "outputs": []
    },
    {
      "cell_type": "code",
      "source": [
        "def rodar_ACO(grafo, formigas, num_formigas, alfa=1.0, beta=5.0, iteracoes=10, evaporacao=0.5):\n",
        "    for it in range(iteracoes):\n",
        "        cidades_visitadas = []\n",
        "\n",
        "        for k in range(num_formigas):\n",
        "            cidades = [formigas[k].obterCidade()]\n",
        "            cidades_visitadas.append(cidades)\n",
        "\n",
        "        for k in range(num_formigas):\n",
        "            for i in range(1, grafo.num_vertices):\n",
        "                cidades_nao_visitadas = list(set(grafo.vizinhos[formigas[k].obterCidade()]) - set(cidades_visitadas[k]))\n",
        "                somatorio = 0.0\n",
        "\n",
        "                for cidade in cidades_nao_visitadas:\n",
        "                    feromonio = grafo.obterFeromonioAresta(formigas[k].obterCidade(), cidade)\n",
        "                    distancia = grafo.obterCustoAresta(formigas[k].obterCidade(), cidade)\n",
        "\n",
        "                    somatorio += (math.pow(feromonio, alfa) * math.pow(1.0 / distancia, beta))\n",
        "\n",
        "                probabilidades = {}\n",
        "\n",
        "                for cidade in cidades_nao_visitadas:\n",
        "                    feromonio = grafo.obterFeromonioAresta(formigas[k].obterCidade(), cidade)\n",
        "                    distancia = grafo.obterCustoAresta(formigas[k].obterCidade(), cidade)\n",
        "                    probabilidade = (math.pow(feromonio, alfa) * math.pow(1.0 / distancia, beta)) / (somatorio if somatorio > 0 else 1)\n",
        "                    probabilidades[cidade] = probabilidade\n",
        "\n",
        "                cidade_escolhida = max(probabilidades, key=probabilidades.get)\n",
        "                cidades_visitadas[k].append(cidade_escolhida)\n",
        "\n",
        "            formigas[k].setSolucao(cidades_visitadas[k], grafo.obterCustoCaminho(cidades_visitadas[k]))\n",
        "\n",
        "\n",
        "        for aresta in grafo.arestas:\n",
        "            somatorio_feromonio = 0.0\n",
        "\n",
        "            for k in range(num_formigas):\n",
        "                arestas_formiga = []\n",
        "\n",
        "                for j in range(grafo.num_vertices - 1):\n",
        "                    arestas_formiga.append((cidades_visitadas[k][j], cidades_visitadas[k][j+1]))\n",
        "\n",
        "                arestas_formiga.append((cidades_visitadas[k][-1], cidades_visitadas[k][0]))\n",
        "\n",
        "                if aresta in arestas_formiga:\n",
        "                    somatorio_feromonio += (1.0 / grafo.obterCustoCaminho(cidades_visitadas[k]))\n",
        "\n",
        "            novo_feromonio = (1.0 - evaporacao) * grafo.obterFeromonioAresta(aresta[0], aresta[1]) + somatorio_feromonio\n",
        "            grafo.setFeromonioAresta(aresta[0], aresta[1], novo_feromonio)\n",
        "\n",
        "    solucao, custo = None, None\n",
        "\n",
        "    for k in range(num_formigas):\n",
        "        if not solucao:\n",
        "            solucao = formigas[k].obterSolucao()[:]\n",
        "            custo = formigas[k].obterCustoSolucao()\n",
        "        else:\n",
        "            aux_custo = formigas[k].obterCustoSolucao()\n",
        "            if aux_custo < custo:\n",
        "                solucao = formigas[k].obterSolucao()[:]\n",
        "                custo = aux_custo\n",
        "\n",
        "    #solucao = [i+1 for i in solucao]\n",
        "    return (solucao, custo)"
      ],
      "metadata": {
        "id": "-dIYJPhMCdQg"
      },
      "execution_count": null,
      "outputs": []
    },
    {
      "cell_type": "code",
      "source": [
        "def int_to_alpha(n):\n",
        "    return chr(ord('A') + n - 1)"
      ],
      "metadata": {
        "id": "_HqG5D1bg0vP"
      },
      "execution_count": null,
      "outputs": []
    },
    {
      "cell_type": "code",
      "source": [
        "if __name__ == \"__main__\":\n",
        "\n",
        "  with open('arquivo.txt', 'r') as file:\n",
        "    matriz_distancias = [[int(num) for num in line.split()] for line in file]\n",
        "\n",
        "  num_vertices = len(matriz_distancias)\n",
        "  grafo = Grafo(num_vertices)\n",
        "\n",
        "  for i in range(num_vertices):\n",
        "    for j in range(num_vertices):\n",
        "        if i != j:\n",
        "            grafo.adicionarAresta(i, j, matriz_distancias[i][j])\n",
        "\n",
        "\n",
        "\n",
        "  G = ig.Graph()\n",
        "  G.add_vertices(range(1, 16))\n",
        "  arestas, pesos = grafo.getAresta()\n",
        "  #arestas = [tuple(int_to_alpha(num) for num in tup) for tup in arestas]\n",
        "  G.add_edges(arestas)\n",
        "  G.es[\"weight\"] = pesos\n",
        "\n",
        "  #fig, ax = plt.subplots()\n",
        "  #ig.plot(G, target=ax, vertex_label=G.vs[\"name\"]) #, edge_label = G.es[\"weight\"])\n",
        "  #plt.plot()\n",
        "\n",
        "  custos_analise = []\n",
        "  for i in range(10, 2000, 10):\n",
        "    params['num_vertices'] = num_vertices\n",
        "    formigas = inicializa_ACO(grafo, 7, alfa = 1, beta = 5, iteracoes = i, evaporacao = 0.5)\n",
        "    sol, custo = rodar_ACO(grafo, formigas, 7, alfa=1, beta=5, iteracoes=i, evaporacao=0.5)\n",
        "    custos_analise.append(custo)\n",
        "\n",
        "\n",
        "\n",
        "  #G_cv = ig.Graph()\n",
        "  #G_cv.add_vertices(range(1, 16))\n",
        "  #G_cv.add_edges(arestas)\n",
        "\n",
        "\n",
        "  #for i in range(len(sol)-1):\n",
        "  #  edge_index = G_cv.get_eid(sol[i], sol[i+1], directed=False)\n",
        "  #  G_cv.es[edge_index][\"color\"] = \"yellow\"\n",
        "\n",
        "\n",
        "  #fig, ax = plt.subplots()\n",
        "  #ig.plot(G_cv, target=ax, vertex_label=G_cv.vs[\"name\"])\n",
        "  #plt.title(f\"Caminho{[str(i) for i in sol]}\\nCusto:{custo}\")\n",
        "  #plt.plot()\n"
      ],
      "metadata": {
        "id": "RRkXop7cCYi_",
        "colab": {
          "base_uri": "https://localhost:8080/",
          "height": 367
        },
        "outputId": "f4a7de87-c51c-4058-ad11-b1f5bf02c837"
      },
      "execution_count": null,
      "outputs": [
        {
          "output_type": "error",
          "ename": "KeyError",
          "evalue": "ignored",
          "traceback": [
            "\u001b[0;31m---------------------------------------------------------------------------\u001b[0m",
            "\u001b[0;31mKeyError\u001b[0m                                  Traceback (most recent call last)",
            "\u001b[0;32m<ipython-input-40-b3159500aee1>\u001b[0m in \u001b[0;36m<cell line: 1>\u001b[0;34m()\u001b[0m\n\u001b[1;32m     29\u001b[0m     \u001b[0mparams\u001b[0m\u001b[0;34m[\u001b[0m\u001b[0;34m'num_vertices'\u001b[0m\u001b[0;34m]\u001b[0m \u001b[0;34m=\u001b[0m \u001b[0mnum_vertices\u001b[0m\u001b[0;34m\u001b[0m\u001b[0;34m\u001b[0m\u001b[0m\n\u001b[1;32m     30\u001b[0m     \u001b[0mformigas\u001b[0m \u001b[0;34m=\u001b[0m \u001b[0minicializa_ACO\u001b[0m\u001b[0;34m(\u001b[0m\u001b[0mgrafo\u001b[0m\u001b[0;34m,\u001b[0m \u001b[0;36m7\u001b[0m\u001b[0;34m,\u001b[0m \u001b[0malfa\u001b[0m \u001b[0;34m=\u001b[0m \u001b[0;36m1\u001b[0m\u001b[0;34m,\u001b[0m \u001b[0mbeta\u001b[0m \u001b[0;34m=\u001b[0m \u001b[0;36m5\u001b[0m\u001b[0;34m,\u001b[0m \u001b[0miteracoes\u001b[0m \u001b[0;34m=\u001b[0m \u001b[0mi\u001b[0m\u001b[0;34m,\u001b[0m \u001b[0mevaporacao\u001b[0m \u001b[0;34m=\u001b[0m \u001b[0;36m0.5\u001b[0m\u001b[0;34m)\u001b[0m\u001b[0;34m\u001b[0m\u001b[0;34m\u001b[0m\u001b[0m\n\u001b[0;32m---> 31\u001b[0;31m     \u001b[0msol\u001b[0m\u001b[0;34m,\u001b[0m \u001b[0mcusto\u001b[0m \u001b[0;34m=\u001b[0m \u001b[0mrodar_ACO\u001b[0m\u001b[0;34m(\u001b[0m\u001b[0mgrafo\u001b[0m\u001b[0;34m,\u001b[0m \u001b[0mformigas\u001b[0m\u001b[0;34m,\u001b[0m \u001b[0;36m7\u001b[0m\u001b[0;34m,\u001b[0m \u001b[0malfa\u001b[0m\u001b[0;34m=\u001b[0m\u001b[0;36m1\u001b[0m\u001b[0;34m,\u001b[0m \u001b[0mbeta\u001b[0m\u001b[0;34m=\u001b[0m\u001b[0;36m5\u001b[0m\u001b[0;34m,\u001b[0m \u001b[0miteracoes\u001b[0m\u001b[0;34m=\u001b[0m\u001b[0mi\u001b[0m\u001b[0;34m,\u001b[0m \u001b[0mevaporacao\u001b[0m\u001b[0;34m=\u001b[0m\u001b[0;36m0.5\u001b[0m\u001b[0;34m)\u001b[0m\u001b[0;34m\u001b[0m\u001b[0;34m\u001b[0m\u001b[0m\n\u001b[0m\u001b[1;32m     32\u001b[0m     \u001b[0mcustos_analise\u001b[0m\u001b[0;34m.\u001b[0m\u001b[0mappend\u001b[0m\u001b[0;34m(\u001b[0m\u001b[0mcusto\u001b[0m\u001b[0;34m)\u001b[0m\u001b[0;34m\u001b[0m\u001b[0;34m\u001b[0m\u001b[0m\n\u001b[1;32m     33\u001b[0m \u001b[0;34m\u001b[0m\u001b[0m\n",
            "\u001b[0;32m<ipython-input-37-382a722736a6>\u001b[0m in \u001b[0;36mrodar_ACO\u001b[0;34m(grafo, formigas, num_formigas, alfa, beta, iteracoes, evaporacao)\u001b[0m\n\u001b[1;32m      9\u001b[0m         \u001b[0;32mfor\u001b[0m \u001b[0mk\u001b[0m \u001b[0;32min\u001b[0m \u001b[0mrange\u001b[0m\u001b[0;34m(\u001b[0m\u001b[0mnum_formigas\u001b[0m\u001b[0;34m)\u001b[0m\u001b[0;34m:\u001b[0m\u001b[0;34m\u001b[0m\u001b[0;34m\u001b[0m\u001b[0m\n\u001b[1;32m     10\u001b[0m             \u001b[0;32mfor\u001b[0m \u001b[0mi\u001b[0m \u001b[0;32min\u001b[0m \u001b[0mrange\u001b[0m\u001b[0;34m(\u001b[0m\u001b[0;36m1\u001b[0m\u001b[0;34m,\u001b[0m \u001b[0mgrafo\u001b[0m\u001b[0;34m.\u001b[0m\u001b[0mnum_vertices\u001b[0m\u001b[0;34m)\u001b[0m\u001b[0;34m:\u001b[0m\u001b[0;34m\u001b[0m\u001b[0;34m\u001b[0m\u001b[0m\n\u001b[0;32m---> 11\u001b[0;31m                 \u001b[0mcidades_nao_visitadas\u001b[0m \u001b[0;34m=\u001b[0m \u001b[0mlist\u001b[0m\u001b[0;34m(\u001b[0m\u001b[0mset\u001b[0m\u001b[0;34m(\u001b[0m\u001b[0mgrafo\u001b[0m\u001b[0;34m.\u001b[0m\u001b[0mvizinhos\u001b[0m\u001b[0;34m[\u001b[0m\u001b[0mformigas\u001b[0m\u001b[0;34m[\u001b[0m\u001b[0mk\u001b[0m\u001b[0;34m]\u001b[0m\u001b[0;34m.\u001b[0m\u001b[0mobterCidade\u001b[0m\u001b[0;34m(\u001b[0m\u001b[0;34m)\u001b[0m\u001b[0;34m]\u001b[0m\u001b[0;34m)\u001b[0m \u001b[0;34m-\u001b[0m \u001b[0mset\u001b[0m\u001b[0;34m(\u001b[0m\u001b[0mcidades_visitadas\u001b[0m\u001b[0;34m[\u001b[0m\u001b[0mk\u001b[0m\u001b[0;34m]\u001b[0m\u001b[0;34m)\u001b[0m\u001b[0;34m)\u001b[0m\u001b[0;34m\u001b[0m\u001b[0;34m\u001b[0m\u001b[0m\n\u001b[0m\u001b[1;32m     12\u001b[0m                 \u001b[0msomatorio\u001b[0m \u001b[0;34m=\u001b[0m \u001b[0;36m0.0\u001b[0m\u001b[0;34m\u001b[0m\u001b[0;34m\u001b[0m\u001b[0m\n\u001b[1;32m     13\u001b[0m \u001b[0;34m\u001b[0m\u001b[0m\n",
            "\u001b[0;31mKeyError\u001b[0m: 15"
          ]
        }
      ]
    },
    {
      "cell_type": "code",
      "source": [
        "plt.plot(custos_analise, color = 'green')\n",
        "#plt.grid(True)\n",
        "plt.xlabel(\"Iteração\")\n",
        "plt.ylabel(\"Custo\")\n",
        "#plt.title(\"\")\n",
        "#plt.ylim(480)"
      ],
      "metadata": {
        "id": "Oqp5eyfiZpNV"
      },
      "execution_count": null,
      "outputs": []
    },
    {
      "cell_type": "code",
      "source": [
        "custos_analise = np.array(custos_analise)\n",
        "\n",
        "print(np.max(custos_analise),\n",
        "  custos_analise.shape,\n",
        "  np.min(custos_analise),\n",
        "  np.mean(custos_analise),\n",
        "  np.std(custos_analise),\n",
        "  np.quantile(custos_analise, 0.10))"
      ],
      "metadata": {
        "id": "wIexkhp5R9To"
      },
      "execution_count": null,
      "outputs": []
    },
    {
      "cell_type": "code",
      "execution_count": null,
      "metadata": {
        "id": "HBLa2WwUAmyX"
      },
      "outputs": [],
      "source": [
        "class Aresta:\n",
        "\n",
        "\tdef __init__(self, origem, destino, custo):\n",
        "\t\tself.origem = origem\n",
        "\t\tself.destino = destino\n",
        "\t\tself.custo = custo\n",
        "\t\tself.feromonio = None\n",
        "\n",
        "\tdef obterOrigem(self):\n",
        "\t\treturn self.origem\n",
        "\n",
        "\tdef obterDestino(self):\n",
        "\t\treturn self.destino\n",
        "\n",
        "\tdef obterCusto(self):\n",
        "\t\treturn self.custo\n",
        "\n",
        "\tdef obterFeronomio(self):\n",
        "\t\treturn self.feromonio\n",
        "\n",
        "\tdef setFeromonio(self, feromonio):\n",
        "\t\tself.feromonio = feromonio\n",
        "\n",
        "\n",
        "# classe que representa um grafo (grafos completos)\n",
        "class Grafo:\n",
        "\n",
        "\tdef __init__(self, num_vertices):\n",
        "\t\tself.num_vertices = num_vertices # número de vértices do grafo\n",
        "\t\tself.arestas = {} # dicionário com as arestas\n",
        "\t\tself.vizinhos = {} # dicionário com todos os vizinhos de cada vértice\n",
        "\n",
        "\n",
        "\tdef adicionarAresta(self, origem, destino, custo):\n",
        "\t\taresta = Aresta(origem=origem, destino=destino, custo=custo)\n",
        "\t\tself.arestas[(origem, destino)] = aresta\n",
        "\t\tif origem not in self.vizinhos:\n",
        "\t\t\tself.vizinhos[origem] = [destino]\n",
        "\t\telse:\n",
        "\t\t\tself.vizinhos[origem].append(destino)\n",
        "\n",
        "\tdef getAresta(self):\n",
        "\t\tarestas = []\n",
        "\t\tpesos = []\n",
        "\t\tfor aresta in self.arestas:\n",
        "\t\t\tarestas.append(aresta)\n",
        "\t\t\tpesos.append(self.obterCustoAresta(aresta[0], aresta[1]))\n",
        "\t\treturn arestas, pesos\n",
        "\n",
        "\n",
        "\tdef obterCustoAresta(self, origem, destino):\n",
        "\t\treturn self.arestas[(origem, destino)].obterCusto()\n",
        "\n",
        "\tdef obterFeromonioAresta(self, origem, destino):\n",
        "\t\treturn self.arestas[(origem, destino)].obterFeronomio()\n",
        "\n",
        "\tdef setFeromonioAresta(self, origem, destino, feromonio):\n",
        "\t\tself.arestas[(origem, destino)].setFeromonio(feromonio)\n",
        "\n",
        "\tdef obterCustoCaminho(self, caminho):\n",
        "\t\tcusto = 0\n",
        "\t\tfor i in range(self.num_vertices - 1):\n",
        "\t\t\tcusto += self.obterCustoAresta(caminho[i], caminho[i+1])\n",
        "\t\t# adiciona o último custo\n",
        "\t\tcusto += self.obterCustoAresta(caminho[-1], caminho[0])\n",
        "\t\treturn custo\n",
        "\n",
        "# classe que representa uma formiga\n",
        "class Formiga:\n",
        "\n",
        "\tdef __init__(self, cidade):\n",
        "\t\tself.cidade = cidade\n",
        "\t\tself.solucao = []\n",
        "\t\tself.custo = None\n",
        "\n",
        "\tdef obterCidade(self):\n",
        "\t\treturn self.cidade\n",
        "\n",
        "\tdef setCidade(self, cidade):\n",
        "\t\tself.cidade = cidade\n",
        "\n",
        "\tdef obterSolucao(self):\n",
        "\t\treturn self.solucao\n",
        "\n",
        "\tdef setSolucao(self, solucao, custo):\n",
        "\t\t# atualiza a solução\n",
        "\t\tif not self.custo:\n",
        "\t\t\tself.solucao = solucao[:]\n",
        "\t\t\tself.custo = custo\n",
        "\t\telse:\n",
        "\t\t\tif custo < self.custo:\n",
        "\t\t\t\tself.solucao = solucao[:]\n",
        "\t\t\t\tself.custo = custo\n",
        "\n",
        "\tdef obterCustoSolucao(self):\n",
        "\t\treturn self.custo\n"
      ]
    }
  ]
}